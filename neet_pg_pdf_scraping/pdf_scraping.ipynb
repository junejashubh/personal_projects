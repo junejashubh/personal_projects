{
 "cells": [
  {
   "cell_type": "code",
   "execution_count": 50,
   "metadata": {},
   "outputs": [],
   "source": [
    "import pdfplumber\n",
    "import pandas as pd\n",
    "\n",
    "# Define the path to your PDF file\n",
    "pdf_path = '/Users/shubhamjuneja/vscode/personal_projects/neet_pg_pdf_scraping/2024120683.pdf'\n",
    "\n"
   ]
  },
  {
   "cell_type": "code",
   "execution_count": 51,
   "metadata": {},
   "outputs": [],
   "source": [
    "dfs = []\n",
    "with pdfplumber.open(pdf_path) as pdf:\n",
    "   \n",
    "    for page in pdf.pages:\n",
    "        #print(page)\n",
    "        tables = page.extract_tables()\n",
    "        for table in tables:\n",
    "            df = pd.DataFrame(table[1:])\n",
    "            df.columns = df.iloc[0,]\n",
    "            df = df.iloc[1:,].reset_index(drop=True)\n",
    "            dfs.append(df)"
   ]
  },
  {
   "cell_type": "code",
   "execution_count": 46,
   "metadata": {},
   "outputs": [],
   "source": [
    "#dfs[0].columns = dfs[0][]\n",
    "final_df = pd.concat(dfs,axis = 0)\n",
    "final_df['Type'] = 'Clear Vacancy'"
   ]
  },
  {
   "cell_type": "code",
   "execution_count": 49,
   "metadata": {},
   "outputs": [
    {
     "data": {
      "text/html": [
       "<div>\n",
       "<style scoped>\n",
       "    .dataframe tbody tr th:only-of-type {\n",
       "        vertical-align: middle;\n",
       "    }\n",
       "\n",
       "    .dataframe tbody tr th {\n",
       "        vertical-align: top;\n",
       "    }\n",
       "\n",
       "    .dataframe thead th {\n",
       "        text-align: right;\n",
       "    }\n",
       "</style>\n",
       "<table border=\"1\" class=\"dataframe\">\n",
       "  <thead>\n",
       "    <tr style=\"text-align: right;\">\n",
       "      <th></th>\n",
       "      <th>StateName</th>\n",
       "      <th>Institute</th>\n",
       "      <th>Quota</th>\n",
       "      <th>Branch</th>\n",
       "      <th>Category</th>\n",
       "      <th>TotalSeats</th>\n",
       "      <th>Type</th>\n",
       "    </tr>\n",
       "  </thead>\n",
       "  <tbody>\n",
       "    <tr>\n",
       "      <th>0</th>\n",
       "      <td>Andhra Pradesh</td>\n",
       "      <td>Andhra Medical College, Andhra Medical College...</td>\n",
       "      <td>All India</td>\n",
       "      <td>M.D. (Radiotherapy/ Radiation Oncology) (RADT)</td>\n",
       "      <td>BC NO</td>\n",
       "      <td>1</td>\n",
       "      <td>Newly Added</td>\n",
       "    </tr>\n",
       "    <tr>\n",
       "      <th>1</th>\n",
       "      <td>Andhra Pradesh</td>\n",
       "      <td>Andhra Medical College, Andhra Medical College...</td>\n",
       "      <td>All India</td>\n",
       "      <td>M.D. (Radiotherapy/ Radiation Oncology) (RADT)</td>\n",
       "      <td>OP NO</td>\n",
       "      <td>1</td>\n",
       "      <td>Newly Added</td>\n",
       "    </tr>\n",
       "    <tr>\n",
       "      <th>2</th>\n",
       "      <td>Andhra Pradesh</td>\n",
       "      <td>Andhra Medical College, Andhra Medical College...</td>\n",
       "      <td>All India</td>\n",
       "      <td>M.D. (Radiotherapy/ Radiation Oncology) (RADT)</td>\n",
       "      <td>ST NO</td>\n",
       "      <td>1</td>\n",
       "      <td>Newly Added</td>\n",
       "    </tr>\n",
       "    <tr>\n",
       "      <th>3</th>\n",
       "      <td>Andhra Pradesh</td>\n",
       "      <td>Manipal Hospital, Andhra Pradesh, near varadhi...</td>\n",
       "      <td>DNB Quota</td>\n",
       "      <td>(NBEMS) ANAESTHESIOLOGY (DANS)</td>\n",
       "      <td>OP NO</td>\n",
       "      <td>1</td>\n",
       "      <td>Newly Added</td>\n",
       "    </tr>\n",
       "    <tr>\n",
       "      <th>4</th>\n",
       "      <td>Andhra Pradesh</td>\n",
       "      <td>Rainbow Childrens Hospital, Andhra Pradesh, Pl...</td>\n",
       "      <td>DNB Quota</td>\n",
       "      <td>(NBEMS) PAEDIATRICS (DPED)</td>\n",
       "      <td>OP NO</td>\n",
       "      <td>2</td>\n",
       "      <td>Newly Added</td>\n",
       "    </tr>\n",
       "  </tbody>\n",
       "</table>\n",
       "</div>"
      ],
      "text/plain": [
       "0       StateName                                          Institute  \\\n",
       "0  Andhra Pradesh  Andhra Medical College, Andhra Medical College...   \n",
       "1  Andhra Pradesh  Andhra Medical College, Andhra Medical College...   \n",
       "2  Andhra Pradesh  Andhra Medical College, Andhra Medical College...   \n",
       "3  Andhra Pradesh  Manipal Hospital, Andhra Pradesh, near varadhi...   \n",
       "4  Andhra Pradesh  Rainbow Childrens Hospital, Andhra Pradesh, Pl...   \n",
       "\n",
       "0      Quota                                          Branch Category  \\\n",
       "0  All India  M.D. (Radiotherapy/ Radiation Oncology) (RADT)    BC NO   \n",
       "1  All India  M.D. (Radiotherapy/ Radiation Oncology) (RADT)    OP NO   \n",
       "2  All India  M.D. (Radiotherapy/ Radiation Oncology) (RADT)    ST NO   \n",
       "3  DNB Quota                  (NBEMS) ANAESTHESIOLOGY (DANS)    OP NO   \n",
       "4  DNB Quota                      (NBEMS) PAEDIATRICS (DPED)    OP NO   \n",
       "\n",
       "0 TotalSeats         Type  \n",
       "0          1  Newly Added  \n",
       "1          1  Newly Added  \n",
       "2          1  Newly Added  \n",
       "3          1  Newly Added  \n",
       "4          2  Newly Added  "
      ]
     },
     "execution_count": 49,
     "metadata": {},
     "output_type": "execute_result"
    }
   ],
   "source": [
    "final_df_1 = pd.concat(dfs,axis = 0)\n",
    "final_df_1['Type'] = 'Newly Added'\n",
    "final_df_1.head()"
   ]
  },
  {
   "cell_type": "code",
   "execution_count": 52,
   "metadata": {},
   "outputs": [
    {
     "data": {
      "text/html": [
       "<div>\n",
       "<style scoped>\n",
       "    .dataframe tbody tr th:only-of-type {\n",
       "        vertical-align: middle;\n",
       "    }\n",
       "\n",
       "    .dataframe tbody tr th {\n",
       "        vertical-align: top;\n",
       "    }\n",
       "\n",
       "    .dataframe thead th {\n",
       "        text-align: right;\n",
       "    }\n",
       "</style>\n",
       "<table border=\"1\" class=\"dataframe\">\n",
       "  <thead>\n",
       "    <tr style=\"text-align: right;\">\n",
       "      <th></th>\n",
       "      <th>StateName</th>\n",
       "      <th>Institute</th>\n",
       "      <th>Quota</th>\n",
       "      <th>Branch</th>\n",
       "      <th>Category</th>\n",
       "      <th>TotalSeats</th>\n",
       "      <th>Type</th>\n",
       "    </tr>\n",
       "  </thead>\n",
       "  <tbody>\n",
       "    <tr>\n",
       "      <th>0</th>\n",
       "      <td>Andaman And Nicobar Islands</td>\n",
       "      <td>ANDAMAN AND NICOBAR ISLANDS INSTITUTE OF MEDIC...</td>\n",
       "      <td>DNB Quota</td>\n",
       "      <td>(NBEMS) GENERAL MEDICINE (DMED)</td>\n",
       "      <td>EW NO</td>\n",
       "      <td>1</td>\n",
       "      <td>Vertual</td>\n",
       "    </tr>\n",
       "    <tr>\n",
       "      <th>1</th>\n",
       "      <td>Andhra Pradesh</td>\n",
       "      <td>ACSR GOVERNMENT MEDICAL COLLEGE,NELLORE, Opp. ...</td>\n",
       "      <td>All India</td>\n",
       "      <td>M.D. (FORENSIC MEDICINE) (FMED)</td>\n",
       "      <td>BC NO</td>\n",
       "      <td>1</td>\n",
       "      <td>Vertual</td>\n",
       "    </tr>\n",
       "    <tr>\n",
       "      <th>2</th>\n",
       "      <td>Andhra Pradesh</td>\n",
       "      <td>ACSR GOVERNMENT MEDICAL COLLEGE,NELLORE, Opp. ...</td>\n",
       "      <td>All India</td>\n",
       "      <td>M.D. (GENERAL MEDICINE) (GMED)</td>\n",
       "      <td>OP NO</td>\n",
       "      <td>2</td>\n",
       "      <td>Vertual</td>\n",
       "    </tr>\n",
       "    <tr>\n",
       "      <th>3</th>\n",
       "      <td>Andhra Pradesh</td>\n",
       "      <td>ACSR GOVERNMENT MEDICAL COLLEGE,NELLORE, Opp. ...</td>\n",
       "      <td>All India</td>\n",
       "      <td>M.D. (GENERAL MEDICINE) (GMED)</td>\n",
       "      <td>SC NO</td>\n",
       "      <td>2</td>\n",
       "      <td>Vertual</td>\n",
       "    </tr>\n",
       "    <tr>\n",
       "      <th>4</th>\n",
       "      <td>Andhra Pradesh</td>\n",
       "      <td>ACSR GOVERNMENT MEDICAL COLLEGE,NELLORE, Opp. ...</td>\n",
       "      <td>All India</td>\n",
       "      <td>M.D. (GENERAL MEDICINE) (GMED)</td>\n",
       "      <td>ST NO</td>\n",
       "      <td>1</td>\n",
       "      <td>Vertual</td>\n",
       "    </tr>\n",
       "  </tbody>\n",
       "</table>\n",
       "</div>"
      ],
      "text/plain": [
       "0                    StateName  \\\n",
       "0  Andaman And Nicobar Islands   \n",
       "1               Andhra Pradesh   \n",
       "2               Andhra Pradesh   \n",
       "3               Andhra Pradesh   \n",
       "4               Andhra Pradesh   \n",
       "\n",
       "0                                          Institute      Quota  \\\n",
       "0  ANDAMAN AND NICOBAR ISLANDS INSTITUTE OF MEDIC...  DNB Quota   \n",
       "1  ACSR GOVERNMENT MEDICAL COLLEGE,NELLORE, Opp. ...  All India   \n",
       "2  ACSR GOVERNMENT MEDICAL COLLEGE,NELLORE, Opp. ...  All India   \n",
       "3  ACSR GOVERNMENT MEDICAL COLLEGE,NELLORE, Opp. ...  All India   \n",
       "4  ACSR GOVERNMENT MEDICAL COLLEGE,NELLORE, Opp. ...  All India   \n",
       "\n",
       "0                           Branch Category TotalSeats     Type  \n",
       "0  (NBEMS) GENERAL MEDICINE (DMED)    EW NO          1  Vertual  \n",
       "1  M.D. (FORENSIC MEDICINE) (FMED)    BC NO          1  Vertual  \n",
       "2   M.D. (GENERAL MEDICINE) (GMED)    OP NO          2  Vertual  \n",
       "3   M.D. (GENERAL MEDICINE) (GMED)    SC NO          2  Vertual  \n",
       "4   M.D. (GENERAL MEDICINE) (GMED)    ST NO          1  Vertual  "
      ]
     },
     "execution_count": 52,
     "metadata": {},
     "output_type": "execute_result"
    }
   ],
   "source": [
    "final_df_2 = pd.concat(dfs,axis = 0)\n",
    "final_df_2['Type'] = 'Vertual'\n",
    "final_df_2.head()"
   ]
  },
  {
   "cell_type": "code",
   "execution_count": 53,
   "metadata": {},
   "outputs": [
    {
     "data": {
      "text/plain": [
       "(17759, 7)"
      ]
     },
     "execution_count": 53,
     "metadata": {},
     "output_type": "execute_result"
    }
   ],
   "source": [
    "neet = pd.concat([final_df,final_df_1,final_df_2],axis= 0).reset_index(drop=True)\n",
    "neet.shape"
   ]
  },
  {
   "cell_type": "code",
   "execution_count": 54,
   "metadata": {},
   "outputs": [],
   "source": [
    "neet.to_csv('/Users/shubhamjuneja/vscode/personal_projects/neet_pg_pdf_scraping/combined.csv',index=False)"
   ]
  },
  {
   "cell_type": "code",
   "execution_count": null,
   "metadata": {},
   "outputs": [],
   "source": []
  }
 ],
 "metadata": {
  "kernelspec": {
   "display_name": "Python 3",
   "language": "python",
   "name": "python3"
  },
  "language_info": {
   "codemirror_mode": {
    "name": "ipython",
    "version": 3
   },
   "file_extension": ".py",
   "mimetype": "text/x-python",
   "name": "python",
   "nbconvert_exporter": "python",
   "pygments_lexer": "ipython3",
   "version": "3.9.7"
  }
 },
 "nbformat": 4,
 "nbformat_minor": 2
}
