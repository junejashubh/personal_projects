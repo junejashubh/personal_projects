{
 "cells": [
  {
   "cell_type": "code",
   "execution_count": 117,
   "metadata": {},
   "outputs": [],
   "source": [
    "from utils import *\n",
    "import pandas as pd\n",
    "import numpy as np\n",
    "import os\n",
    "from datetime import datetime, timedelta"
   ]
  },
  {
   "cell_type": "code",
   "execution_count": 118,
   "metadata": {},
   "outputs": [
    {
     "name": "stdout",
     "output_type": "stream",
     "text": [
      "{'inputs': '../inputs/', 'outputs': '../outputs/', 'selenium_reqs': {'do_scape': False, 'driver_path': '/Users/shubhamjuneja/vscode/personal_projects/webscraping/selenium/chromedriver-mac-x64 3/chromedriver', 'website_path': 'https://finance.yahoo.com', 'saving_outputs': '../outputs/output_from_webscrape/', 'downloaded_file_location': '/Users/shubhamjuneja/Downloads', 'op_path_n_name': '../outputs/output_from_webscrape/company_to_symbol_mapping.csv'}, 'yfinance_reqs': {'input_path': '../inputs/input_for_yfinance', 'op_path': '../outputs/output_from_yfinance', 'nse_file_name': '../outputs/output_from_webscrape/MW-NIFTY-50-16-Jun-2024.csv'}, 'modeling_reqs': {'m_input_path': '../inputs/input_for_modeling'}}\n"
     ]
    },
    {
     "data": {
      "text/plain": [
       "'2024-07-02'"
      ]
     },
     "execution_count": 118,
     "metadata": {},
     "output_type": "execute_result"
    }
   ],
   "source": [
    "config = read_config('../config/main_config.yml')\n",
    "print(config)\n",
    "today_data = datetime.today().strftime('%Y-%m-%d')\n",
    "today_data"
   ]
  },
  {
   "cell_type": "code",
   "execution_count": 119,
   "metadata": {},
   "outputs": [
    {
     "data": {
      "text/html": [
       "<div>\n",
       "<style scoped>\n",
       "    .dataframe tbody tr th:only-of-type {\n",
       "        vertical-align: middle;\n",
       "    }\n",
       "\n",
       "    .dataframe tbody tr th {\n",
       "        vertical-align: top;\n",
       "    }\n",
       "\n",
       "    .dataframe thead th {\n",
       "        text-align: right;\n",
       "    }\n",
       "</style>\n",
       "<table border=\"1\" class=\"dataframe\">\n",
       "  <thead>\n",
       "    <tr style=\"text-align: right;\">\n",
       "      <th></th>\n",
       "      <th>Symbols</th>\n",
       "    </tr>\n",
       "  </thead>\n",
       "  <tbody>\n",
       "    <tr>\n",
       "      <th>28</th>\n",
       "      <td>BAJAJFINSV</td>\n",
       "    </tr>\n",
       "  </tbody>\n",
       "</table>\n",
       "</div>"
      ],
      "text/plain": [
       "       Symbols\n",
       "28  BAJAJFINSV"
      ]
     },
     "execution_count": 119,
     "metadata": {},
     "output_type": "execute_result"
    }
   ],
   "source": [
    "mappings.loc[mappings['Symbols']=='BAJAJFINSV',]"
   ]
  },
  {
   "cell_type": "code",
   "execution_count": 120,
   "metadata": {},
   "outputs": [],
   "source": [
    "mappings = pd.read_csv(config['yfinance_reqs']['nse_file_name'])\n",
    "mappings.head()\n",
    "final_list = []\n",
    "for i in range(len(mappings)):\n",
    "#for i in [28]:\n",
    "    \n",
    "    data = pd.read_csv(os.path.join(config['yfinance_reqs']['op_path'],mappings['Symbols'][i]+'.csv'))\n",
    "    data['Date'] = pd.to_datetime(data['Date'])\n",
    "\n",
    "    if len(data)>0:\n",
    "        data['50_Moving_Avg'] = data['Close'].rolling(window=50).mean()\n",
    "        data['200_Moving_Avg'] = data['Close'].rolling(window=200).mean()\n",
    "        potential_buy=data.loc[data['Close']<data['50_Moving_Avg'],].sort_values(by='Date',ascending=False).reset_index(drop=True)\n",
    "\n",
    "        req_date_id = data.loc[data['Date'].isin(potential_buy['Date']),].index-1\n",
    "        potential_buy.columns = 'buying_date_'+potential_buy.columns \n",
    "        req_dates_data=data.iloc[req_date_id,].sort_values(by='Date',ascending=False).reset_index(drop=True)\n",
    "        final_data = pd.concat([potential_buy,req_dates_data],axis = 1)\n",
    "        rule_cleck = final_data.loc[(final_data['buying_date_Close']<final_data['buying_date_50_Moving_Avg']) &\n",
    "                    (final_data['Close']>final_data['50_Moving_Avg']),][['buying_date_Date','Date','buying_date_Close','Close','buying_date_50_Moving_Avg','50_Moving_Avg']].reset_index(drop=True)\n",
    "        rule_cleck_1 = rule_cleck.loc[rule_cleck['buying_date_Date']==today_data,].reset_index(drop=True)\n",
    "        if len(rule_cleck_1)>0:\n",
    "            final_list.append(mappings['Symbols'][i])\n"
   ]
  },
  {
   "cell_type": "code",
   "execution_count": 121,
   "metadata": {},
   "outputs": [
    {
     "data": {
      "text/plain": [
       "['LICI',\n",
       " 'TITAN',\n",
       " 'BANKBARODA',\n",
       " 'CANBK',\n",
       " 'NHPC',\n",
       " 'SRF',\n",
       " 'INDIANB',\n",
       " 'SBICARD',\n",
       " 'IDFCFIRSTB',\n",
       " 'SUNDARMFIN',\n",
       " 'FORTIS',\n",
       " 'IDFC',\n",
       " 'LAXMIMACH',\n",
       " 'TTML',\n",
       " 'JINDALSAW',\n",
       " 'JUBLINGREA',\n",
       " 'GOCOLORS',\n",
       " 'GOPAL',\n",
       " 'ZAGGLE',\n",
       " 'JTLIND',\n",
       " 'BFUTILITIE',\n",
       " 'SHALBY',\n",
       " 'CAPACITE',\n",
       " 'RPTECH',\n",
       " 'GEOJITFSL',\n",
       " 'SMCGLOBAL',\n",
       " 'JAYBARMARU',\n",
       " 'ACLGATI',\n",
       " 'CHEVIOT',\n",
       " 'DMCC',\n",
       " 'WEALTH',\n",
       " 'RBZJEWEL',\n",
       " 'OSWALAGRO',\n",
       " 'SADBHAV',\n",
       " 'SOUTHWEST',\n",
       " 'LOYALTEX',\n",
       " 'RVHL',\n",
       " 'VARDMNPOLY',\n",
       " 'ISFT',\n",
       " 'UNIVASTU',\n",
       " 'MITCON',\n",
       " 'TOUCHWOOD',\n",
       " 'VASWANI',\n",
       " 'CELEBRITY',\n",
       " 'LEXUS',\n",
       " 'ONELIFECAP',\n",
       " 'TECILCHEM',\n",
       " 'CYBERMEDIA',\n",
       " 'WILLAMAGOR',\n",
       " 'FMNL']"
      ]
     },
     "execution_count": 121,
     "metadata": {},
     "output_type": "execute_result"
    }
   ],
   "source": [
    "final_list"
   ]
  },
  {
   "cell_type": "code",
   "execution_count": null,
   "metadata": {},
   "outputs": [],
   "source": []
  }
 ],
 "metadata": {
  "kernelspec": {
   "display_name": "base",
   "language": "python",
   "name": "python3"
  },
  "language_info": {
   "codemirror_mode": {
    "name": "ipython",
    "version": 3
   },
   "file_extension": ".py",
   "mimetype": "text/x-python",
   "name": "python",
   "nbconvert_exporter": "python",
   "pygments_lexer": "ipython3",
   "version": "3.9.7"
  }
 },
 "nbformat": 4,
 "nbformat_minor": 2
}
